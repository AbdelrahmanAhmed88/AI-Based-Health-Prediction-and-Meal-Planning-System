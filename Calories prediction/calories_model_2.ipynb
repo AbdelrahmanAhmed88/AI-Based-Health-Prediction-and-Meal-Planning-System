{
 "cells": [
  {
   "cell_type": "code",
   "execution_count": 33,
   "metadata": {},
   "outputs": [],
   "source": [
    "import pandas as pd\n",
    "import numpy as np\n",
    "from sklearn.model_selection import train_test_split, cross_val_score\n",
    "from sklearn.linear_model import LinearRegression\n",
    "from sklearn.ensemble import RandomForestRegressor\n",
    "from sklearn.svm import SVR\n",
    "from sklearn.preprocessing import LabelEncoder\n",
    "from sklearn.metrics import mean_squared_error,mean_absolute_error\n",
    "from sklearn.ensemble import GradientBoostingRegressor\n",
    "\n",
    "import seaborn as sns\n",
    "import matplotlib.pyplot as plt\n",
    "\n",
    "\n",
    "from sklearn.naive_bayes import GaussianNB"
   ]
  },
  {
   "cell_type": "code",
   "execution_count": 34,
   "metadata": {},
   "outputs": [],
   "source": [
    "data = pd.read_csv(\"calories_data.csv\")"
   ]
  },
  {
   "cell_type": "code",
   "execution_count": 35,
   "metadata": {},
   "outputs": [
    {
     "data": {
      "text/html": [
       "<div>\n",
       "<style scoped>\n",
       "    .dataframe tbody tr th:only-of-type {\n",
       "        vertical-align: middle;\n",
       "    }\n",
       "\n",
       "    .dataframe tbody tr th {\n",
       "        vertical-align: top;\n",
       "    }\n",
       "\n",
       "    .dataframe thead th {\n",
       "        text-align: right;\n",
       "    }\n",
       "</style>\n",
       "<table border=\"1\" class=\"dataframe\">\n",
       "  <thead>\n",
       "    <tr style=\"text-align: right;\">\n",
       "      <th></th>\n",
       "      <th>Gender</th>\n",
       "      <th>Height</th>\n",
       "      <th>Weight</th>\n",
       "      <th>age</th>\n",
       "      <th>activity_level</th>\n",
       "      <th>BMR</th>\n",
       "      <th>activity_multiplier</th>\n",
       "      <th>TDEE</th>\n",
       "    </tr>\n",
       "  </thead>\n",
       "  <tbody>\n",
       "    <tr>\n",
       "      <th>0</th>\n",
       "      <td>Male</td>\n",
       "      <td>161</td>\n",
       "      <td>89</td>\n",
       "      <td>18</td>\n",
       "      <td>Very active</td>\n",
       "      <td>1645.25</td>\n",
       "      <td>1.725</td>\n",
       "      <td>2838.05625</td>\n",
       "    </tr>\n",
       "    <tr>\n",
       "      <th>1</th>\n",
       "      <td>Male</td>\n",
       "      <td>179</td>\n",
       "      <td>127</td>\n",
       "      <td>21</td>\n",
       "      <td>Very active</td>\n",
       "      <td>2122.75</td>\n",
       "      <td>1.725</td>\n",
       "      <td>3661.74375</td>\n",
       "    </tr>\n",
       "    <tr>\n",
       "      <th>2</th>\n",
       "      <td>Male</td>\n",
       "      <td>172</td>\n",
       "      <td>139</td>\n",
       "      <td>33</td>\n",
       "      <td>Moderately active</td>\n",
       "      <td>2139.00</td>\n",
       "      <td>1.550</td>\n",
       "      <td>3315.45000</td>\n",
       "    </tr>\n",
       "    <tr>\n",
       "      <th>3</th>\n",
       "      <td>Male</td>\n",
       "      <td>153</td>\n",
       "      <td>104</td>\n",
       "      <td>23</td>\n",
       "      <td>Very active</td>\n",
       "      <td>1720.25</td>\n",
       "      <td>1.725</td>\n",
       "      <td>2967.43125</td>\n",
       "    </tr>\n",
       "    <tr>\n",
       "      <th>4</th>\n",
       "      <td>Male</td>\n",
       "      <td>165</td>\n",
       "      <td>68</td>\n",
       "      <td>39</td>\n",
       "      <td>Moderately active</td>\n",
       "      <td>1355.25</td>\n",
       "      <td>1.550</td>\n",
       "      <td>2100.63750</td>\n",
       "    </tr>\n",
       "  </tbody>\n",
       "</table>\n",
       "</div>"
      ],
      "text/plain": [
       "  Gender  Height  Weight  age     activity_level      BMR  \\\n",
       "0   Male     161      89   18        Very active  1645.25   \n",
       "1   Male     179     127   21        Very active  2122.75   \n",
       "2   Male     172     139   33  Moderately active  2139.00   \n",
       "3   Male     153     104   23        Very active  1720.25   \n",
       "4   Male     165      68   39  Moderately active  1355.25   \n",
       "\n",
       "   activity_multiplier        TDEE  \n",
       "0                1.725  2838.05625  \n",
       "1                1.725  3661.74375  \n",
       "2                1.550  3315.45000  \n",
       "3                1.725  2967.43125  \n",
       "4                1.550  2100.63750  "
      ]
     },
     "execution_count": 35,
     "metadata": {},
     "output_type": "execute_result"
    }
   ],
   "source": [
    "data.head()"
   ]
  },
  {
   "cell_type": "code",
   "execution_count": 37,
   "metadata": {},
   "outputs": [],
   "source": [
    "data = data.drop(\"TDEE\" ,axis = 1)"
   ]
  },
  {
   "cell_type": "code",
   "execution_count": 38,
   "metadata": {},
   "outputs": [
    {
     "name": "stdout",
     "output_type": "stream",
     "text": [
      "<class 'pandas.core.frame.DataFrame'>\n",
      "RangeIndex: 500 entries, 0 to 499\n",
      "Data columns (total 7 columns):\n",
      " #   Column               Non-Null Count  Dtype  \n",
      "---  ------               --------------  -----  \n",
      " 0   Gender               500 non-null    object \n",
      " 1   Height               500 non-null    int64  \n",
      " 2   Weight               500 non-null    int64  \n",
      " 3   age                  500 non-null    int64  \n",
      " 4   activity_level       500 non-null    object \n",
      " 5   BMR                  500 non-null    float64\n",
      " 6   activity_multiplier  500 non-null    float64\n",
      "dtypes: float64(2), int64(3), object(2)\n",
      "memory usage: 27.5+ KB\n"
     ]
    }
   ],
   "source": [
    "data.info()"
   ]
  },
  {
   "cell_type": "code",
   "execution_count": 39,
   "metadata": {},
   "outputs": [
    {
     "data": {
      "text/plain": [
       "(500, 7)"
      ]
     },
     "execution_count": 39,
     "metadata": {},
     "output_type": "execute_result"
    }
   ],
   "source": [
    "data.shape"
   ]
  },
  {
   "cell_type": "code",
   "execution_count": 40,
   "metadata": {},
   "outputs": [
    {
     "data": {
      "text/html": [
       "<div>\n",
       "<style scoped>\n",
       "    .dataframe tbody tr th:only-of-type {\n",
       "        vertical-align: middle;\n",
       "    }\n",
       "\n",
       "    .dataframe tbody tr th {\n",
       "        vertical-align: top;\n",
       "    }\n",
       "\n",
       "    .dataframe thead th {\n",
       "        text-align: right;\n",
       "    }\n",
       "</style>\n",
       "<table border=\"1\" class=\"dataframe\">\n",
       "  <thead>\n",
       "    <tr style=\"text-align: right;\">\n",
       "      <th></th>\n",
       "      <th>Height</th>\n",
       "      <th>Weight</th>\n",
       "      <th>age</th>\n",
       "      <th>BMR</th>\n",
       "      <th>activity_multiplier</th>\n",
       "    </tr>\n",
       "  </thead>\n",
       "  <tbody>\n",
       "    <tr>\n",
       "      <th>count</th>\n",
       "      <td>500.000000</td>\n",
       "      <td>500.000000</td>\n",
       "      <td>500.000000</td>\n",
       "      <td>500.000000</td>\n",
       "      <td>500.000000</td>\n",
       "    </tr>\n",
       "    <tr>\n",
       "      <th>mean</th>\n",
       "      <td>169.944000</td>\n",
       "      <td>106.000000</td>\n",
       "      <td>30.060000</td>\n",
       "      <td>1810.850000</td>\n",
       "      <td>1.575550</td>\n",
       "    </tr>\n",
       "    <tr>\n",
       "      <th>std</th>\n",
       "      <td>16.375261</td>\n",
       "      <td>32.382607</td>\n",
       "      <td>9.886551</td>\n",
       "      <td>346.121189</td>\n",
       "      <td>0.129758</td>\n",
       "    </tr>\n",
       "    <tr>\n",
       "      <th>min</th>\n",
       "      <td>140.000000</td>\n",
       "      <td>50.000000</td>\n",
       "      <td>18.000000</td>\n",
       "      <td>1084.000000</td>\n",
       "      <td>1.200000</td>\n",
       "    </tr>\n",
       "    <tr>\n",
       "      <th>25%</th>\n",
       "      <td>156.000000</td>\n",
       "      <td>80.000000</td>\n",
       "      <td>22.000000</td>\n",
       "      <td>1527.437500</td>\n",
       "      <td>1.550000</td>\n",
       "    </tr>\n",
       "    <tr>\n",
       "      <th>50%</th>\n",
       "      <td>170.500000</td>\n",
       "      <td>106.000000</td>\n",
       "      <td>29.000000</td>\n",
       "      <td>1827.125000</td>\n",
       "      <td>1.550000</td>\n",
       "    </tr>\n",
       "    <tr>\n",
       "      <th>75%</th>\n",
       "      <td>184.000000</td>\n",
       "      <td>136.000000</td>\n",
       "      <td>36.000000</td>\n",
       "      <td>2098.062500</td>\n",
       "      <td>1.725000</td>\n",
       "    </tr>\n",
       "    <tr>\n",
       "      <th>max</th>\n",
       "      <td>199.000000</td>\n",
       "      <td>160.000000</td>\n",
       "      <td>65.000000</td>\n",
       "      <td>2527.750000</td>\n",
       "      <td>1.725000</td>\n",
       "    </tr>\n",
       "  </tbody>\n",
       "</table>\n",
       "</div>"
      ],
      "text/plain": [
       "           Height      Weight         age          BMR  activity_multiplier\n",
       "count  500.000000  500.000000  500.000000   500.000000           500.000000\n",
       "mean   169.944000  106.000000   30.060000  1810.850000             1.575550\n",
       "std     16.375261   32.382607    9.886551   346.121189             0.129758\n",
       "min    140.000000   50.000000   18.000000  1084.000000             1.200000\n",
       "25%    156.000000   80.000000   22.000000  1527.437500             1.550000\n",
       "50%    170.500000  106.000000   29.000000  1827.125000             1.550000\n",
       "75%    184.000000  136.000000   36.000000  2098.062500             1.725000\n",
       "max    199.000000  160.000000   65.000000  2527.750000             1.725000"
      ]
     },
     "execution_count": 40,
     "metadata": {},
     "output_type": "execute_result"
    }
   ],
   "source": [
    "data.describe()"
   ]
  },
  {
   "cell_type": "code",
   "execution_count": 41,
   "metadata": {},
   "outputs": [
    {
     "data": {
      "text/plain": [
       "Gender                 0\n",
       "Height                 0\n",
       "Weight                 0\n",
       "age                    0\n",
       "activity_level         0\n",
       "BMR                    0\n",
       "activity_multiplier    0\n",
       "dtype: int64"
      ]
     },
     "execution_count": 41,
     "metadata": {},
     "output_type": "execute_result"
    }
   ],
   "source": [
    "data.isna().sum()"
   ]
  },
  {
   "cell_type": "code",
   "execution_count": 42,
   "metadata": {},
   "outputs": [
    {
     "data": {
      "text/plain": [
       "1"
      ]
     },
     "execution_count": 42,
     "metadata": {},
     "output_type": "execute_result"
    }
   ],
   "source": [
    "data.duplicated().sum()"
   ]
  },
  {
   "cell_type": "code",
   "execution_count": 43,
   "metadata": {},
   "outputs": [
    {
     "data": {
      "text/html": [
       "<div>\n",
       "<style scoped>\n",
       "    .dataframe tbody tr th:only-of-type {\n",
       "        vertical-align: middle;\n",
       "    }\n",
       "\n",
       "    .dataframe tbody tr th {\n",
       "        vertical-align: top;\n",
       "    }\n",
       "\n",
       "    .dataframe thead th {\n",
       "        text-align: right;\n",
       "    }\n",
       "</style>\n",
       "<table border=\"1\" class=\"dataframe\">\n",
       "  <thead>\n",
       "    <tr style=\"text-align: right;\">\n",
       "      <th></th>\n",
       "      <th>Gender</th>\n",
       "      <th>Height</th>\n",
       "      <th>Weight</th>\n",
       "      <th>age</th>\n",
       "      <th>activity_level</th>\n",
       "      <th>BMR</th>\n",
       "      <th>activity_multiplier</th>\n",
       "    </tr>\n",
       "  </thead>\n",
       "  <tbody>\n",
       "    <tr>\n",
       "      <th>0</th>\n",
       "      <td>0</td>\n",
       "      <td>161</td>\n",
       "      <td>89</td>\n",
       "      <td>18</td>\n",
       "      <td>4</td>\n",
       "      <td>1645.25</td>\n",
       "      <td>1.725</td>\n",
       "    </tr>\n",
       "    <tr>\n",
       "      <th>1</th>\n",
       "      <td>0</td>\n",
       "      <td>179</td>\n",
       "      <td>127</td>\n",
       "      <td>21</td>\n",
       "      <td>4</td>\n",
       "      <td>2122.75</td>\n",
       "      <td>1.725</td>\n",
       "    </tr>\n",
       "    <tr>\n",
       "      <th>2</th>\n",
       "      <td>0</td>\n",
       "      <td>172</td>\n",
       "      <td>139</td>\n",
       "      <td>33</td>\n",
       "      <td>3</td>\n",
       "      <td>2139.00</td>\n",
       "      <td>1.550</td>\n",
       "    </tr>\n",
       "    <tr>\n",
       "      <th>3</th>\n",
       "      <td>0</td>\n",
       "      <td>153</td>\n",
       "      <td>104</td>\n",
       "      <td>23</td>\n",
       "      <td>4</td>\n",
       "      <td>1720.25</td>\n",
       "      <td>1.725</td>\n",
       "    </tr>\n",
       "    <tr>\n",
       "      <th>4</th>\n",
       "      <td>0</td>\n",
       "      <td>165</td>\n",
       "      <td>68</td>\n",
       "      <td>39</td>\n",
       "      <td>3</td>\n",
       "      <td>1355.25</td>\n",
       "      <td>1.550</td>\n",
       "    </tr>\n",
       "    <tr>\n",
       "      <th>...</th>\n",
       "      <td>...</td>\n",
       "      <td>...</td>\n",
       "      <td>...</td>\n",
       "      <td>...</td>\n",
       "      <td>...</td>\n",
       "      <td>...</td>\n",
       "      <td>...</td>\n",
       "    </tr>\n",
       "    <tr>\n",
       "      <th>495</th>\n",
       "      <td>0</td>\n",
       "      <td>162</td>\n",
       "      <td>58</td>\n",
       "      <td>18</td>\n",
       "      <td>4</td>\n",
       "      <td>1341.50</td>\n",
       "      <td>1.725</td>\n",
       "    </tr>\n",
       "    <tr>\n",
       "      <th>496</th>\n",
       "      <td>1</td>\n",
       "      <td>175</td>\n",
       "      <td>141</td>\n",
       "      <td>28</td>\n",
       "      <td>3</td>\n",
       "      <td>2202.75</td>\n",
       "      <td>1.550</td>\n",
       "    </tr>\n",
       "    <tr>\n",
       "      <th>497</th>\n",
       "      <td>1</td>\n",
       "      <td>197</td>\n",
       "      <td>154</td>\n",
       "      <td>18</td>\n",
       "      <td>4</td>\n",
       "      <td>2520.25</td>\n",
       "      <td>1.725</td>\n",
       "    </tr>\n",
       "    <tr>\n",
       "      <th>498</th>\n",
       "      <td>0</td>\n",
       "      <td>188</td>\n",
       "      <td>65</td>\n",
       "      <td>51</td>\n",
       "      <td>2</td>\n",
       "      <td>1409.00</td>\n",
       "      <td>1.375</td>\n",
       "    </tr>\n",
       "    <tr>\n",
       "      <th>499</th>\n",
       "      <td>1</td>\n",
       "      <td>153</td>\n",
       "      <td>107</td>\n",
       "      <td>41</td>\n",
       "      <td>2</td>\n",
       "      <td>1660.25</td>\n",
       "      <td>1.375</td>\n",
       "    </tr>\n",
       "  </tbody>\n",
       "</table>\n",
       "<p>500 rows × 7 columns</p>\n",
       "</div>"
      ],
      "text/plain": [
       "     Gender  Height  Weight  age  activity_level      BMR  activity_multiplier\n",
       "0         0     161      89   18               4  1645.25                1.725\n",
       "1         0     179     127   21               4  2122.75                1.725\n",
       "2         0     172     139   33               3  2139.00                1.550\n",
       "3         0     153     104   23               4  1720.25                1.725\n",
       "4         0     165      68   39               3  1355.25                1.550\n",
       "..      ...     ...     ...  ...             ...      ...                  ...\n",
       "495       0     162      58   18               4  1341.50                1.725\n",
       "496       1     175     141   28               3  2202.75                1.550\n",
       "497       1     197     154   18               4  2520.25                1.725\n",
       "498       0     188      65   51               2  1409.00                1.375\n",
       "499       1     153     107   41               2  1660.25                1.375\n",
       "\n",
       "[500 rows x 7 columns]"
      ]
     },
     "execution_count": 43,
     "metadata": {},
     "output_type": "execute_result"
    }
   ],
   "source": [
    "# Convert categorical columns to numerical\n",
    "data['Gender'] = data['Gender'].map({'Male': 0, 'Female': 1})  # Example mapping\n",
    "data['activity_level'] = data['activity_level'].map({\n",
    "    'Sedentary': 1,\n",
    "    'Lightly active': 2,\n",
    "    'Moderately active': 3,\n",
    "    'Very active': 4\n",
    "})\n",
    "data"
   ]
  },
  {
   "cell_type": "code",
   "execution_count": 44,
   "metadata": {},
   "outputs": [],
   "source": [
    "X = data.drop(columns='BMR')\n",
    "y = data['BMR']"
   ]
  },
  {
   "cell_type": "code",
   "execution_count": 45,
   "metadata": {},
   "outputs": [],
   "source": [
    "X_train, X_test, y_train, y_test = train_test_split(X, y, test_size=0.2, random_state=42)"
   ]
  },
  {
   "cell_type": "code",
   "execution_count": 46,
   "metadata": {},
   "outputs": [
    {
     "data": {
      "text/plain": [
       "<Axes: >"
      ]
     },
     "execution_count": 46,
     "metadata": {},
     "output_type": "execute_result"
    },
    {
     "data": {
      "image/png": "[encoded data removed]",
      "text/plain": [
       "<Figure size 640x480 with 2 Axes>"
      ]
     },
     "metadata": {},
     "output_type": "display_data"
    }
   ],
   "source": [
    "corr = data.corr()\n",
    "sns.heatmap(corr, annot = True)"
   ]
  },
  {
   "cell_type": "code",
   "execution_count": 47,
   "metadata": {},
   "outputs": [
    {
     "name": "stdout",
     "output_type": "stream",
     "text": [
      "                       Gender    Height    Weight       age  activity_level  \\\n",
      "Gender               1.000000  0.017677 -0.009523 -0.069795        0.063571   \n",
      "Height               0.017677  1.000000  0.000446 -0.069818        0.077588   \n",
      "Weight              -0.009523  0.000446  1.000000 -0.040055        0.044486   \n",
      "age                 -0.069795 -0.069818 -0.040055  1.000000       -0.931219   \n",
      "activity_level       0.063571  0.077588  0.044486 -0.931219        1.000000   \n",
      "BMR                  0.006286  0.306081  0.941438 -0.200939        0.197558   \n",
      "activity_multiplier  0.063571  0.077588  0.044486 -0.931219        1.000000   \n",
      "\n",
      "                          BMR  activity_multiplier  \n",
      "Gender               0.006286             0.063571  \n",
      "Height               0.306081             0.077588  \n",
      "Weight               0.941438             0.044486  \n",
      "age                 -0.200939            -0.931219  \n",
      "activity_level       0.197558             1.000000  \n",
      "BMR                  1.000000             0.197558  \n",
      "activity_multiplier  0.197558             1.000000  \n"
     ]
    }
   ],
   "source": [
    "print(corr)"
   ]
  },
  {
   "cell_type": "code",
   "execution_count": 48,
   "metadata": {},
   "outputs": [
    {
     "data": {
      "text/html": [
       "<div>\n",
       "<style scoped>\n",
       "    .dataframe tbody tr th:only-of-type {\n",
       "        vertical-align: middle;\n",
       "    }\n",
       "\n",
       "    .dataframe tbody tr th {\n",
       "        vertical-align: top;\n",
       "    }\n",
       "\n",
       "    .dataframe thead th {\n",
       "        text-align: right;\n",
       "    }\n",
       "</style>\n",
       "<table border=\"1\" class=\"dataframe\">\n",
       "  <thead>\n",
       "    <tr style=\"text-align: right;\">\n",
       "      <th></th>\n",
       "      <th>Gender</th>\n",
       "      <th>Height</th>\n",
       "      <th>Weight</th>\n",
       "      <th>age</th>\n",
       "      <th>activity_level</th>\n",
       "      <th>activity_multiplier</th>\n",
       "    </tr>\n",
       "  </thead>\n",
       "  <tbody>\n",
       "    <tr>\n",
       "      <th>249</th>\n",
       "      <td>1</td>\n",
       "      <td>147</td>\n",
       "      <td>94</td>\n",
       "      <td>58</td>\n",
       "      <td>1</td>\n",
       "      <td>1.200</td>\n",
       "    </tr>\n",
       "    <tr>\n",
       "      <th>433</th>\n",
       "      <td>1</td>\n",
       "      <td>196</td>\n",
       "      <td>131</td>\n",
       "      <td>44</td>\n",
       "      <td>2</td>\n",
       "      <td>1.375</td>\n",
       "    </tr>\n",
       "    <tr>\n",
       "      <th>19</th>\n",
       "      <td>0</td>\n",
       "      <td>157</td>\n",
       "      <td>56</td>\n",
       "      <td>31</td>\n",
       "      <td>3</td>\n",
       "      <td>1.550</td>\n",
       "    </tr>\n",
       "    <tr>\n",
       "      <th>322</th>\n",
       "      <td>1</td>\n",
       "      <td>142</td>\n",
       "      <td>86</td>\n",
       "      <td>39</td>\n",
       "      <td>3</td>\n",
       "      <td>1.550</td>\n",
       "    </tr>\n",
       "    <tr>\n",
       "      <th>332</th>\n",
       "      <td>1</td>\n",
       "      <td>161</td>\n",
       "      <td>145</td>\n",
       "      <td>23</td>\n",
       "      <td>4</td>\n",
       "      <td>1.725</td>\n",
       "    </tr>\n",
       "    <tr>\n",
       "      <th>...</th>\n",
       "      <td>...</td>\n",
       "      <td>...</td>\n",
       "      <td>...</td>\n",
       "      <td>...</td>\n",
       "      <td>...</td>\n",
       "      <td>...</td>\n",
       "    </tr>\n",
       "    <tr>\n",
       "      <th>106</th>\n",
       "      <td>1</td>\n",
       "      <td>171</td>\n",
       "      <td>120</td>\n",
       "      <td>18</td>\n",
       "      <td>4</td>\n",
       "      <td>1.725</td>\n",
       "    </tr>\n",
       "    <tr>\n",
       "      <th>270</th>\n",
       "      <td>0</td>\n",
       "      <td>187</td>\n",
       "      <td>62</td>\n",
       "      <td>29</td>\n",
       "      <td>3</td>\n",
       "      <td>1.550</td>\n",
       "    </tr>\n",
       "    <tr>\n",
       "      <th>348</th>\n",
       "      <td>1</td>\n",
       "      <td>155</td>\n",
       "      <td>115</td>\n",
       "      <td>34</td>\n",
       "      <td>3</td>\n",
       "      <td>1.550</td>\n",
       "    </tr>\n",
       "    <tr>\n",
       "      <th>435</th>\n",
       "      <td>1</td>\n",
       "      <td>172</td>\n",
       "      <td>62</td>\n",
       "      <td>29</td>\n",
       "      <td>3</td>\n",
       "      <td>1.550</td>\n",
       "    </tr>\n",
       "    <tr>\n",
       "      <th>102</th>\n",
       "      <td>0</td>\n",
       "      <td>151</td>\n",
       "      <td>114</td>\n",
       "      <td>38</td>\n",
       "      <td>3</td>\n",
       "      <td>1.550</td>\n",
       "    </tr>\n",
       "  </tbody>\n",
       "</table>\n",
       "<p>400 rows × 6 columns</p>\n",
       "</div>"
      ],
      "text/plain": [
       "     Gender  Height  Weight  age  activity_level  activity_multiplier\n",
       "249       1     147      94   58               1                1.200\n",
       "433       1     196     131   44               2                1.375\n",
       "19        0     157      56   31               3                1.550\n",
       "322       1     142      86   39               3                1.550\n",
       "332       1     161     145   23               4                1.725\n",
       "..      ...     ...     ...  ...             ...                  ...\n",
       "106       1     171     120   18               4                1.725\n",
       "270       0     187      62   29               3                1.550\n",
       "348       1     155     115   34               3                1.550\n",
       "435       1     172      62   29               3                1.550\n",
       "102       0     151     114   38               3                1.550\n",
       "\n",
       "[400 rows x 6 columns]"
      ]
     },
     "execution_count": 48,
     "metadata": {},
     "output_type": "execute_result"
    }
   ],
   "source": [
    "X_train"
   ]
  },
  {
   "cell_type": "code",
   "execution_count": 49,
   "metadata": {},
   "outputs": [],
   "source": [
    "# Initialize the models\n",
    "models = {\n",
    "    'Linear Regression': LinearRegression(),\n",
    "    'Random Forest': RandomForestRegressor(n_estimators=100, random_state=42),\n",
    "    'Gradient Boosting': GradientBoostingRegressor(n_estimators=100, random_state=42)\n",
    "}"
   ]
  },
  {
   "cell_type": "code",
   "execution_count": 50,
   "metadata": {},
   "outputs": [
    {
     "name": "stdout",
     "output_type": "stream",
     "text": [
      "Linear Regression:\n",
      "  MAE: 0.0000\n",
      "  RMSE: 0.0000\n",
      "  R²: 1.0000\n",
      "  Adjusted R²: 1.0000\n",
      "  MAPE: 0.0000\n",
      "  Explained Variance Score: 1.0000\n",
      "\n",
      "Random Forest:\n",
      "  MAE: 30.5061\n",
      "  RMSE: 39.7613\n",
      "  R²: 0.9890\n",
      "  Adjusted R²: 0.9883\n",
      "  MAPE: 0.0176\n",
      "  Explained Variance Score: 0.9890\n",
      "\n",
      "Gradient Boosting:\n",
      "  MAE: 22.2535\n",
      "  RMSE: 27.8913\n",
      "  R²: 0.9946\n",
      "  Adjusted R²: 0.9942\n",
      "  MAPE: 0.0132\n",
      "  Explained Variance Score: 0.9946\n",
      "\n"
     ]
    }
   ],
   "source": [
    "from sklearn.metrics import r2_score, mean_absolute_percentage_error, explained_variance_score\n",
    "\n",
    "# Train and evaluate each model\n",
    "for model_name, model in models.items():\n",
    "    # Train the model\n",
    "    model.fit(X_train, y_train)\n",
    "    \n",
    "    # Predict on test data\n",
    "    y_pred = model.predict(X_test)\n",
    "    \n",
    "    # Calculate evaluation metrics\n",
    "    mae = mean_absolute_error(y_test, y_pred)\n",
    "    rmse = np.sqrt(mean_squared_error(y_test, y_pred))\n",
    "    r2 = r2_score(y_test, y_pred)  # Coefficient of determination\n",
    "    mape = mean_absolute_percentage_error(y_test, y_pred)  # Mean absolute percentage error\n",
    "    evs = explained_variance_score(y_test, y_pred)  # Explained variance score\n",
    "    \n",
    "    # Adjusted R² (to account for the number of predictors)\n",
    "    n = len(y_test)  # Number of data points\n",
    "    p = X_test.shape[1]  # Number of features\n",
    "    adj_r2 = 1 - (1 - r2) * (n - 1) / (n - p - 1)\n",
    "    \n",
    "    # Print results\n",
    "    print(f\"{model_name}:\")\n",
    "    print(f\"  MAE: {mae:.4f}\")\n",
    "    print(f\"  RMSE: {rmse:.4f}\")\n",
    "    print(f\"  R²: {r2:.4f}\")\n",
    "    print(f\"  Adjusted R²: {adj_r2:.4f}\")\n",
    "    print(f\"  MAPE: {mape:.4f}\")\n",
    "    print(f\"  Explained Variance Score: {evs:.4f}\")\n",
    "    print()\n"
   ]
  },
  {
   "cell_type": "code",
   "execution_count": 51,
   "metadata": {},
   "outputs": [
    {
     "data": {
      "text/html": [
       "<style>#sk-container-id-2 {color: black;background-color: white;}#sk-container-id-2 pre{padding: 0;}#sk-container-id-2 div.sk-toggleable {background-color: white;}#sk-container-id-2 label.sk-toggleable__label {cursor: pointer;display: block;width: 100%;margin-bottom: 0;padding: 0.3em;box-sizing: border-box;text-align: center;}#sk-container-id-2 label.sk-toggleable__label-arrow:before {content: \"▸\";float: left;margin-right: 0.25em;color: #696969;}#sk-container-id-2 label.sk-toggleable__label-arrow:hover:before {color: black;}#sk-container-id-2 div.sk-estimator:hover label.sk-toggleable__label-arrow:before {color: black;}#sk-container-id-2 div.sk-toggleable__content {max-height: 0;max-width: 0;overflow: hidden;text-align: left;background-color: #f0f8ff;}#sk-container-id-2 div.sk-toggleable__content pre {margin: 0.2em;color: black;border-radius: 0.25em;background-color: #f0f8ff;}#sk-container-id-2 input.sk-toggleable__control:checked~div.sk-toggleable__content {max-height: 200px;max-width: 100%;overflow: auto;}#sk-container-id-2 input.sk-toggleable__control:checked~label.sk-toggleable__label-arrow:before {content: \"▾\";}#sk-container-id-2 div.sk-estimator input.sk-toggleable__control:checked~label.sk-toggleable__label {background-color: #d4ebff;}#sk-container-id-2 div.sk-label input.sk-toggleable__control:checked~label.sk-toggleable__label {background-color: #d4ebff;}#sk-container-id-2 input.sk-hidden--visually {border: 0;clip: rect(1px 1px 1px 1px);clip: rect(1px, 1px, 1px, 1px);height: 1px;margin: -1px;overflow: hidden;padding: 0;position: absolute;width: 1px;}#sk-container-id-2 div.sk-estimator {font-family: monospace;background-color: #f0f8ff;border: 1px dotted black;border-radius: 0.25em;box-sizing: border-box;margin-bottom: 0.5em;}#sk-container-id-2 div.sk-estimator:hover {background-color: #d4ebff;}#sk-container-id-2 div.sk-parallel-item::after {content: \"\";width: 100%;border-bottom: 1px solid gray;flex-grow: 1;}#sk-container-id-2 div.sk-label:hover label.sk-toggleable__label {background-color: #d4ebff;}#sk-container-id-2 div.sk-serial::before {content: \"\";position: absolute;border-left: 1px solid gray;box-sizing: border-box;top: 0;bottom: 0;left: 50%;z-index: 0;}#sk-container-id-2 div.sk-serial {display: flex;flex-direction: column;align-items: center;background-color: white;padding-right: 0.2em;padding-left: 0.2em;position: relative;}#sk-container-id-2 div.sk-item {position: relative;z-index: 1;}#sk-container-id-2 div.sk-parallel {display: flex;align-items: stretch;justify-content: center;background-color: white;position: relative;}#sk-container-id-2 div.sk-item::before, #sk-container-id-2 div.sk-parallel-item::before {content: \"\";position: absolute;border-left: 1px solid gray;box-sizing: border-box;top: 0;bottom: 0;left: 50%;z-index: -1;}#sk-container-id-2 div.sk-parallel-item {display: flex;flex-direction: column;z-index: 1;position: relative;background-color: white;}#sk-container-id-2 div.sk-parallel-item:first-child::after {align-self: flex-end;width: 50%;}#sk-container-id-2 div.sk-parallel-item:last-child::after {align-self: flex-start;width: 50%;}#sk-container-id-2 div.sk-parallel-item:only-child::after {width: 0;}#sk-container-id-2 div.sk-dashed-wrapped {border: 1px dashed gray;margin: 0 0.4em 0.5em 0.4em;box-sizing: border-box;padding-bottom: 0.4em;background-color: white;}#sk-container-id-2 div.sk-label label {font-family: monospace;font-weight: bold;display: inline-block;line-height: 1.2em;}#sk-container-id-2 div.sk-label-container {text-align: center;}#sk-container-id-2 div.sk-container {/* jupyter's `normalize.less` sets `[hidden] { display: none; }` but bootstrap.min.css set `[hidden] { display: none !important; }` so we also need the `!important` here to be able to override the default hidden behavior on the sphinx rendered scikit-learn.org. See: https://github.com/scikit-learn/scikit-learn/issues/21755 */display: inline-block !important;position: relative;}#sk-container-id-2 div.sk-text-repr-fallback {display: none;}</style><div id=\"sk-container-id-2\" class=\"sk-top-container\"><div class=\"sk-text-repr-fallback\"><pre>GradientBoostingRegressor(random_state=42)</pre><b>In a Jupyter environment, please rerun this cell to show the HTML representation or trust the notebook. <br />On GitHub, the HTML representation is unable to render, please try loading this page with nbviewer.org.</b></div><div class=\"sk-container\" hidden><div class=\"sk-item\"><div class=\"sk-estimator sk-toggleable\"><input class=\"sk-toggleable__control sk-hidden--visually\" id=\"sk-estimator-id-2\" type=\"checkbox\" checked><label for=\"sk-estimator-id-2\" class=\"sk-toggleable__label sk-toggleable__label-arrow\">GradientBoostingRegressor</label><div class=\"sk-toggleable__content\"><pre>GradientBoostingRegressor(random_state=42)</pre></div></div></div></div></div>"
      ],
      "text/plain": [
       "GradientBoostingRegressor(random_state=42)"
      ]
     },
     "execution_count": 51,
     "metadata": {},
     "output_type": "execute_result"
    }
   ],
   "source": [
    "GBR = GradientBoostingRegressor(n_estimators=100, random_state=42)\n",
    "GBR.fit(X_train,y_train)"
   ]
  },
  {
   "cell_type": "code",
   "execution_count": 57,
   "metadata": {},
   "outputs": [
    {
     "name": "stdout",
     "output_type": "stream",
     "text": [
      "Predicted BMR: 1590.79 calories/day\n",
      "Predicted TDEE: 2744.11 calories/day\n"
     ]
    }
   ],
   "source": [
    "# Function to take user input and predict BMR and TDEE\n",
    "def predict_bmr_tdee():\n",
    "    # Get user input\n",
    "    gender = input(\"Enter Gender (Male/Female): \")\n",
    "    height = float(input(\"Enter Height in cm: \"))\n",
    "    weight = float(input(\"Enter Weight in kg: \"))\n",
    "    age = int(input(\"Enter Age: \"))\n",
    "    activity_level = input(\"Enter Activity Level (Sedentary/Lightly active/Moderately active/Very active): \")\n",
    "    \n",
    "    # Map input data to model input format\n",
    "    gender = 0 if gender.lower() == 'male' else 1\n",
    "    activity_level_map = {\n",
    "        'Sedentary': 1,\n",
    "        'Lightly active': 2,\n",
    "        'Moderately active': 3,\n",
    "        'Very active': 4\n",
    "    }\n",
    "    activity_level_value = activity_level_map.get(activity_level, 1)  # Default to Sedentary if invalid input\n",
    "    \n",
    "    activity_level_number_map = {\n",
    "        'Sedentary': 1.2,\n",
    "        'Lightly active': 1.375,\n",
    "        'Moderately active': 1.55,\n",
    "        'Very active': 1.725\n",
    "    }\n",
    "    activity_multiplier = activity_level_number_map.get(activity_level, 1.2)  # Default to Sedentary if invalid input\n",
    "    \n",
    "\n",
    "    # Prepare input data as a DataFrame for BMR prediction\n",
    "    input_data = pd.DataFrame([[gender, height, weight, age,activity_level_value,activity_multiplier]], columns=['Gender', 'Height', 'Weight', 'age','activity_level','activity_multiplier'])\n",
    "    \n",
    "    # Predict BMR using the trained Random Forest model\n",
    "    bmr_prediction = GBR.predict(input_data)\n",
    "    \n",
    "    # Calculate TDEE (BMR * activity level multiplier)\n",
    "    tdee_prediction = bmr_prediction[0] * activity_multiplier\n",
    "    \n",
    "    # Print the result\n",
    "    print(f\"Predicted BMR: {bmr_prediction[0]:.2f} calories/day\")\n",
    "    print(f\"Predicted TDEE: {tdee_prediction:.2f} calories/day\")\n",
    "\n",
    "# Call the function to test the model\n",
    "predict_bmr_tdee()\n"
   ]
  },
  {
   "cell_type": "code",
   "execution_count": 55,
   "metadata": {},
   "outputs": [
    {
     "name": "stdout",
     "output_type": "stream",
     "text": [
      "Model saved successfully!\n"
     ]
    }
   ],
   "source": [
    "import joblib\n",
    "# Save the model\n",
    "joblib.dump(GBR, 'Gradient_Boosting_model_for_calories.pkl')\n",
    "\n",
    "print(\"Model saved successfully!\")"
   ]
  },
  {
   "cell_type": "code",
   "execution_count": null,
   "metadata": {},
   "outputs": [],
   "source": [
    "# Train the Random Forest model\n",
    "RFR = RandomForestRegressor(n_estimators=100, random_state=42)\n",
    "RFR.fit(X, y)"
   ]
  }
 ],
 "metadata": {
  "kernelspec": {
   "display_name": "base",
   "language": "python",
   "name": "python3"
  },
  "language_info": {
   "codemirror_mode": {
    "name": "ipython",
    "version": 3
   },
   "file_extension": ".py",
   "mimetype": "text/x-python",
   "name": "python",
   "nbconvert_exporter": "python",
   "pygments_lexer": "ipython3",
   "version": "3.11.7"
  }
 },
 "nbformat": 4,
 "nbformat_minor": 2
}
